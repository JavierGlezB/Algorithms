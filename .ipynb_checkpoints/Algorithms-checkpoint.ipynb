{
 "cells": [
  {
   "cell_type": "markdown",
   "metadata": {},
   "source": [
    "# Divide and conquer\n"
   ]
  },
  {
   "cell_type": "markdown",
   "metadata": {},
   "source": [
    "## MergeSort"
   ]
  },
  {
   "cell_type": "code",
   "execution_count": 1,
   "metadata": {},
   "outputs": [],
   "source": [
    "import sys\n",
    "import time \n",
    "import numpy as np\n",
    "import math\n",
    "import random\n",
    "np.random.seed(21)\n",
    "random.seed(21)\n",
    "sys.setrecursionlimit(1000000)\n",
    "#Python by default has a recursion limit very limitated, \n",
    "#with the above declaration, the recursion limit can be modified, "
   ]
  },
  {
   "cell_type": "code",
   "execution_count": 11,
   "metadata": {},
   "outputs": [],
   "source": [
    "\n",
    "def merge(a,b):    \n",
    "    #print \"Len a {}\".format(len(a))\n",
    "    #print \"Len b {}\".format(len(b))\n",
    "    if len(a) == 0 and len(b) == 0:\n",
    "        return []\n",
    "    if len(a) == 0:   \n",
    "        return [b[0]] + merge([], b[1:])\n",
    "    if len(b) == 0:\n",
    "        return [a[0]] + merge(a[1:],[])\n",
    "    else:\n",
    "        if a[0] < b[0]:\n",
    "            return [a[0]] + merge(a[1:], b)\n",
    "        else:\n",
    "            return [b[0]] + merge(a, b[1:],)\n",
    "def merge_sort(n=[1,5,4,8,10,2,6,9,12,11,3,7,100,102, 19,23]):\n",
    "    if len(n) == 1:\n",
    "        return n\n",
    "    if len(n) == 2:\n",
    "        #print \"Base case\"\n",
    "        if n[0] > n[1]:\n",
    "            return [n[1],n[0]]\n",
    "        else:\n",
    "            return n  \n",
    "    else:\n",
    "        split = len(n)/2\n",
    "        a = merge_sort(n[:split])\n",
    "        b = merge_sort(n[split:])\n",
    "        #print len(a)\n",
    "        #print len(b)\n",
    "        res = merge(a,b)\n",
    "        return res\n",
    "\n",
    "# 1ms 100\n",
    "def main_mergesort():\n",
    "    N = 20000\n",
    "    a = np.random.randint(1,N*10,N).tolist()    \n",
    "    t1 = time.time()\n",
    "    res = merge_sort(a)\n",
    "    t2 = time.time()\n",
    "    print \"Elapsed_time {0} seconds\".format(t2-t1)\n",
    "    print \"Estimated time for  n = {0} \".format(N)"
   ]
  },
  {
   "cell_type": "markdown",
   "metadata": {},
   "source": [
    "## Closest pairs of points\n",
    "\n",
    "Algotrithm:\n",
    "$Closest-pairs(p_0,p_1, ... p_n)$    \n",
    "    \n",
    "   Compute separation line $L$ such that half of the points are on left side and half on the other:\n",
    "    \n",
    "   $d_1 = Closest-pairs(left-half)$  \n",
    "   \n",
    "   $d_2 = Closest-pairs(right-half)$\n",
    "   \n",
    "   $d = min(d_1, d_2) $\n",
    "\n",
    "   Delete all points further than $d$ from separation line L\n",
    "   \n",
    "   Sort remaining points by y coordinate \n",
    "   \n",
    "   Scann points in y order and compare between each point and next 11 neighboors\n",
    "   \n",
    "   If any of this distances are less than $d$ udpdate $d$\n",
    "   \n",
    "   return $d$"
   ]
  },
  {
   "cell_type": "code",
   "execution_count": 126,
   "metadata": {},
   "outputs": [],
   "source": [
    "def get_points(N=100, min_values=-1000, max_values =1000):\n",
    "    points = ((2 * max_values * np.random.random((N, 2))) + (min_values)).astype(float)\n",
    "    x_args_sorted = np.argsort(points[:,0], axis=0)\n",
    "    points_x_sorted = points[x_args_sorted[:]]\n",
    "    y_args_sorted = np.expand_dims(np.argsort(points_x_sorted[:,1], axis=0), axis = 1)\n",
    "    y_ordered_position = np.copy(y_args_sorted)\n",
    "    for i in range(len(y_args_sorted)):\n",
    "        y_ordered_position[y_args_sorted[i,0]] = i\n",
    "    points = points_x_sorted \n",
    "    return points.tolist(), y_ordered_position[:,0].tolist()"
   ]
  },
  {
   "cell_type": "code",
   "execution_count": 127,
   "metadata": {
    "scrolled": false
   },
   "outputs": [
    {
     "name": "stdout",
     "output_type": "stream",
     "text": [
      "Closest point divide and conquer (10000 Points) \n",
      " Distance: 0.197199561932 \n",
      " Points: [[-300.4098772757218, -620.1836107171644], [-300.42388179061686, -619.986909062904]] \n",
      " Time: 0.239418983459 Seconds\n",
      "Brute Force: 0.197199561932    Time: 47.2746088505\n",
      "197.455557481 Times faster than brute force\n"
     ]
    }
   ],
   "source": [
    "\n",
    "def distance_two_points(a,b):\n",
    "    res = 0\n",
    "    for i in range(len(a)):\n",
    "        res += (a[i] - b[i])**2\n",
    "    return res ** .5\n",
    "\n",
    "def closest_pairs_brute_force(points):\n",
    "    if len(points) >= 2:\n",
    "        distances = []\n",
    "        main_point = points[0]\n",
    "        remaining = points[1:]\n",
    "        min_distance = 9999999999999999\n",
    "        min_points = [[],[]]\n",
    "        for point in remaining:\n",
    "            d = distance_two_points(main_point, point)\n",
    "            if d < min_distance:\n",
    "                min_distance = d\n",
    "                min_points = [main_point, point]\n",
    "        r_min = closest_pairs_brute_force(remaining)\n",
    "        if r_min[0] < min_distance:\n",
    "            the_minimum = r_min\n",
    "        else:\n",
    "            the_minimum = (min_distance, min_points)\n",
    "        return the_minimum\n",
    "    else:\n",
    "        return (1000000000,[])\n",
    "\n",
    "    \n",
    "def L_to_min_halfs_points(left, right, y_order_left, y_order_right, L, min_distance):\n",
    "    new_y_order = []\n",
    "    p = []\n",
    "    for i in reversed(left):\n",
    "        if abs(i[0] - L) < min_distance:\n",
    "            p.append(i)\n",
    "            new_y_order.append(y_order_left.pop())\n",
    "            \n",
    "    new_y_order = [i for i in reversed(new_y_order)] \n",
    "    p = [i for i in reversed(p)] \n",
    "    k = 0\n",
    "    for i in range(len(right)):\n",
    "        if abs(right[i][0] -L) < min_distance:\n",
    "            p.append(right[i])\n",
    "            new_y_order.append(y_order_right[i])\n",
    "            i +=1\n",
    "            \n",
    "    so = sorted(new_y_order)\n",
    "    o_index = [new_y_order.index(i) for i in so]\n",
    "    ordered_y_points = [p[i] for i in o_index]\n",
    "\n",
    "    return ordered_y_points\n",
    "    \n",
    "def find_minimum_in_line(points):\n",
    "    \n",
    "    if len(points) > 3:    \n",
    "        minimum = 9999999999\n",
    "        minimum_points = [[],[]]\n",
    "        point = points[0]\n",
    "        to_compare = points[1:7] #next 7 points\n",
    "        for i in to_compare:\n",
    "            d = distance_two_points(point, i)\n",
    "            if d < minimum:\n",
    "                minimum = d\n",
    "                minimum_points = [point, i]\n",
    "        next_min, next_min_points = find_minimum_in_line(points[1:])\n",
    "        if next_min < minimum:\n",
    "            minimum = next_min\n",
    "            minimum_points = next_min_points\n",
    "        return minimum, minimum_points\n",
    "    else:\n",
    "        return 999999999999999, [[],[]]\n",
    "\n",
    "\n",
    "def closest_pairs(points, y_order):\n",
    "    if len (points) <= 3:\n",
    "        minimum = closest_pairs_brute_force(points)\n",
    "        return minimum\n",
    "    else:\n",
    "        half = len(points) / 2\n",
    "        \n",
    "        left = points[:half]\n",
    "        right = points[half:]\n",
    "        \n",
    "        L = (right[0][0] + left[-1][0]) / 2  \n",
    "        \n",
    "        min_left = closest_pairs(left, y_order[:half])\n",
    "        min_right = closest_pairs(right, y_order[half:])\n",
    "        \n",
    "        if min_left[0] < min_right[0]:\n",
    "            min_halfs_distance = min_left\n",
    "        else:\n",
    "            min_halfs_distance = min_right\n",
    "        \n",
    "        ordered_y_valid = L_to_min_halfs_points(left, right, y_order[:half], y_order[half:], L, min_halfs_distance[0])\n",
    "        \n",
    "        minimum_line = find_minimum_in_line(ordered_y_valid)\n",
    "        \n",
    "        if minimum_line[0] < min_halfs_distance[0]:\n",
    "            min_min = minimum_line\n",
    "        else:\n",
    "            min_min = min_halfs_distance\n",
    "        return min_min\n",
    "\n",
    "N = 10000\n",
    "\n",
    "points, y_ordered_position = get_points(N=N) #Sorted_points\n",
    "\n",
    "t1_dc = time.time()\n",
    "res_dc = closest_pairs(points, y_ordered_position)## Divide and conquer\n",
    "t2_dc = time.time()\n",
    "\n",
    "print \"Closest point divide and conquer ({0} Points) \\n Distance: {1} \\n Points: {2} \\n Time: {3} Seconds\".format(N,res_dc[0], res_dc[1], t2_dc- t1_dc)\n",
    "\n",
    "t1_bf = time.time()\n",
    "res_bf = closest_pairs_brute_force(points)\n",
    "t2_bf = time.time()\n",
    "print \"Brute Force: {0}    Time: {1}\".format(res_dc[0], t2_bf-t1_bf)\n",
    "print \"{} Times faster than brute force\".format((t2_bf - t1_bf)/(t2_dc-t1_dc))"
   ]
  },
  {
   "cell_type": "markdown",
   "metadata": {},
   "source": [
    "## Karatsuba Multiplication Algorithm\n",
    "Multiplication Algorithm for biggest Numbers\n",
    "\n"
   ]
  },
  {
   "cell_type": "code",
   "execution_count": 57,
   "metadata": {},
   "outputs": [
    {
     "name": "stdout",
     "output_type": "stream",
     "text": [
      "41897708102435219620085717492\n",
      "41897708102435219620085717492\n"
     ]
    }
   ],
   "source": [
    "import sys\n",
    "import time \n",
    "import numpy as np\n",
    "import math\n",
    "import random\n",
    "np.random.seed(21)\n",
    "random.seed(21)\n",
    "sys.setrecursionlimit(10000)\n",
    "\n",
    "\n",
    "def karatsuba_base(x,y):\n",
    "    \n",
    "    B = 10\n",
    "    n = max(len(x), len(y))\n",
    "    m = int(math.ceil(n/2.))\n",
    " \n",
    "    x1 = int(x[:-m]) \n",
    "    x0 = int(x[-m:])\n",
    "    y1 = int(y[:-m]) \n",
    "    y0 = int(y[-m:])\n",
    "#     print \"x0: {0}, x1: {1}, y0: {2}, y1: {3}\".format(x0,x1,y0,y1)\n",
    "    z0 = x0 * y0\n",
    "    z2 = x1 * y1 \n",
    "    z1 = ((x1 + x0)*(y0 + y1)) - z2 -z0\n",
    "    res = (z2*(B**(2*m))) + (z1 * (B**m) ) +z0 \n",
    "    return res\n",
    "\n",
    "\n",
    "\n",
    "def karatsuba(x, y):\n",
    "    \n",
    "    if (len(x) <=4 and len(y) <=4):\n",
    "        return karatsuba_base(x,y)\n",
    "    else:\n",
    "        B = 10\n",
    "        n = max(len(x), len(y))\n",
    "        #m = n/2   \n",
    "        m = int(math.ceil(n/2.))\n",
    "\n",
    "        x1 = x[:-m] \n",
    "        x0 = x[-m:]\n",
    "        y1 = y[:-m]\n",
    "        y0 = y[-m:]\n",
    "        z0 = karatsuba(x0, y0)\n",
    "        z2 = karatsuba(x1, y1) \n",
    "        z1 = karatsuba( str(int(x1) + int(x0)) , str(int(y0) + int(y1))) - z2 -z0\n",
    "        #print \"z1 {}\".format(z2)\n",
    "        res = (z2*(B**(2*m))) + (z1 * (B**m) ) + z0 \n",
    "        return res\n",
    "\n",
    "        \n",
    "x = '134234123413412'\n",
    "y = '312124123412341'\n",
    "\n",
    "print karatsuba(x,y)\n",
    "\n",
    "print int(x) *  int(y)\n"
   ]
  },
  {
   "cell_type": "code",
   "execution_count": 29,
   "metadata": {},
   "outputs": [
    {
     "data": {
      "text/plain": [
       "2"
      ]
     },
     "execution_count": 29,
     "metadata": {},
     "output_type": "execute_result"
    }
   ],
   "source": [
    "int(math.ceil(4/2.))"
   ]
  },
  {
   "cell_type": "code",
   "execution_count": 6,
   "metadata": {},
   "outputs": [
    {
     "data": {
      "text/plain": [
       "54"
      ]
     },
     "execution_count": 6,
     "metadata": {},
     "output_type": "execute_result"
    }
   ],
   "source": [
    "27*2"
   ]
  },
  {
   "cell_type": "code",
   "execution_count": null,
   "metadata": {},
   "outputs": [],
   "source": []
  }
 ],
 "metadata": {
  "kernelspec": {
   "display_name": "Python 2",
   "language": "python",
   "name": "python2"
  },
  "language_info": {
   "codemirror_mode": {
    "name": "ipython",
    "version": 2
   },
   "file_extension": ".py",
   "mimetype": "text/x-python",
   "name": "python",
   "nbconvert_exporter": "python",
   "pygments_lexer": "ipython2",
   "version": "2.7.15rc1"
  }
 },
 "nbformat": 4,
 "nbformat_minor": 2
}
